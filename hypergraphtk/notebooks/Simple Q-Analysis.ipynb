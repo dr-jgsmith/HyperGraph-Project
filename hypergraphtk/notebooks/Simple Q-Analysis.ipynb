{
 "cells": [
  {
   "cell_type": "code",
   "execution_count": null,
   "metadata": {},
   "outputs": [],
   "source": [
    "from hypergraphtk.core.hyper_graph import *\n",
    "from hypergraphtk.visual.visualization import *"
   ]
  },
  {
   "cell_type": "code",
   "execution_count": null,
   "metadata": {},
   "outputs": [],
   "source": [
    "# A - set represent simplices, polyhedra, people\n",
    "A = ['A', 'B', 'C', 'D', 'E', 'F', 'G', 'H', 'I', 'J', 'K', 'L']\n",
    "\n",
    "# B - criteria, attributes, places, other people\n",
    "B = ['a', 'b', 'c', 'd', 'e', 'f', 'g', 'h']"
   ]
  },
  {
   "cell_type": "code",
   "execution_count": null,
   "metadata": {},
   "outputs": [],
   "source": [
    "matrix = [[0, 0, 7, 0, 0, 6, 3, 2],\n",
    "          [5, 4, 7, 0, 0, 0, 4, 0],\n",
    "          [0, 0, 0, 6, 6, 4, 3, 5],\n",
    "          [0, 3, 7, 7, 3, 5, 5, 4],\n",
    "          [0, 6, 6, 5, 4, 0, 0, 0],\n",
    "          [0, 0, 0, 2, 4, 0, 0, 7],\n",
    "          [0, 2, 2, 5, 0, 0, 0, 6],\n",
    "          [0, 3, 3, 4, 4, 0, 0, 0],\n",
    "          [0, 0, 7, 0, 0, 0, 0, 0],\n",
    "          [2, 7, 2, 2, 0, 0, 0, 6],\n",
    "          [0, 0, 0, 0, 4, 0, 0, 0],\n",
    "          [3, 6, 6, 0, 0, 0, 0, 0]]"
   ]
  },
  {
   "cell_type": "code",
   "execution_count": null,
   "metadata": {},
   "outputs": [],
   "source": [
    "weights = [1.0, 1.0, 1.0, 1.0, 1.0, 1.0, 1.0, 1.0]"
   ]
  },
  {
   "cell_type": "code",
   "execution_count": null,
   "metadata": {},
   "outputs": [],
   "source": [
    "# cut points are the threshold parameters for conducting a Q-Analysis\n",
    "# Each cut-point can be used to represent a scale such as low, medium or high\n",
    "cut_points = [0.1, 0.2, 0.3, 0.4, 0.5, 0.6, 0.7, 0.8, 0.9]"
   ]
  },
  {
   "cell_type": "code",
   "execution_count": null,
   "metadata": {},
   "outputs": [],
   "source": [
    "normed = normalize(np.array(matrix))\n",
    "qgraphs = simple_qanalysis(normed, cut_points)\n",
    "print(qgraphs)"
   ]
  },
  {
   "cell_type": "code",
   "execution_count": null,
   "metadata": {},
   "outputs": [],
   "source": [
    "q = compute_q_structure(qgraphs)\n",
    "print(q)"
   ]
  },
  {
   "cell_type": "code",
   "execution_count": null,
   "metadata": {},
   "outputs": [],
   "source": [
    "visualize_q_percolation(q)"
   ]
  },
  {
   "cell_type": "code",
   "execution_count": null,
   "metadata": {},
   "outputs": [],
   "source": [
    "p = compute_p_structure(qgraphs)\n",
    "print(p)"
   ]
  },
  {
   "cell_type": "code",
   "execution_count": null,
   "metadata": {},
   "outputs": [],
   "source": [
    "visualize_p_percolation(p)"
   ]
  },
  {
   "cell_type": "code",
   "execution_count": null,
   "metadata": {},
   "outputs": [],
   "source": [
    "ecc = chin_ecc(qgraphs, range(len(matrix)))\n",
    "print(ecc)"
   ]
  },
  {
   "cell_type": "code",
   "execution_count": null,
   "metadata": {},
   "outputs": [],
   "source": [
    "visualize_eccentricity(ecc)"
   ]
  },
  {
   "cell_type": "code",
   "execution_count": null,
   "metadata": {},
   "outputs": [],
   "source": []
  }
 ],
 "metadata": {
  "kernelspec": {
   "display_name": "Python 3",
   "language": "python",
   "name": "python3"
  },
  "language_info": {
   "codemirror_mode": {
    "name": "ipython",
    "version": 3
   },
   "file_extension": ".py",
   "mimetype": "text/x-python",
   "name": "python",
   "nbconvert_exporter": "python",
   "pygments_lexer": "ipython3",
   "version": "3.6.5"
  }
 },
 "nbformat": 4,
 "nbformat_minor": 2
}
