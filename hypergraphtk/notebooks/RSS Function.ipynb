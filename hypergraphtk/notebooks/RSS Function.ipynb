{
 "cells": [
  {
   "cell_type": "code",
   "execution_count": 1,
   "metadata": {},
   "outputs": [],
   "source": [
    "from hypergraphtk.dataminer.rsstreams import *\n",
    "from hypergraphtk.text.clean_html import *\n",
    "from hypergraphtk.text.txtprocessor import TxtProcessor"
   ]
  },
  {
   "cell_type": "code",
   "execution_count": 2,
   "metadata": {},
   "outputs": [
    {
     "name": "stdout",
     "output_type": "stream",
     "text": [
      "None\n",
      "Washington Post Canada&#39;s Senate votes to legalize marijuana Washington Post TORONTO Canada&#39;s Senate voted on Tuesday to pass the federal government&#39;s historic bill legalizing the recreational use of marijuana, clearing the way for the country to become the first advanced industrialized nation to legalize the drug nationwide ... Vote in Canada Paves the Way for Legalization of Marijuana New York Times Canada becomes second nation in the world to legalize marijuana CNN Canadian senate passes weed bill but legalization delayed PBS NewsHour HuffPost Reuters all 917 news articles &raquo;\n",
      "(Reuters) General Electric Co's expulsion from the elite Dow Jones Industrial Average may be bitter pill to swallow for shareholders, but it could be little more than publicity blow for investors in the 126-year-old struggling U.S. conglomerate.\n",
      "U.S. crude production forecasts keep growing. The Energy Information Administration said domestic output will climb to record 9.96 million barrels day in 2018, up from 9.9 million barrels projected last month, according to the agency’s monthly Short-Term Energy Outlook released Tuesday. Production will average 9.31 million barrels day in 2017, up from ...\n",
      "Nordstrom&#039;s recent earnings sell-off presents compelling buying opportunity, according to Deutsche Bank.\n",
      "Square shares hit 52-week high after the announcement that New Yorkers can now trade cryptocurrency on the Cash app.\n",
      "Intellasia East Asia News Most Asian stock markets followed Wall Street higher on Friday after reports of strong US earnings, as investors watched the inter-Korean summit. KEEPING SCORE: The Shanghai Composite Index sank 0.6 percent to 3,057.27 while Tokyo&#8217;s Nikkei 225 rose 0.5 percent to 22,441.28. Hong Kong&#8217;s Hang Seng advanced 0.2 percent to 30,055.84 and Seoul&#8217;s Kospi added [&#8230;]\n",
      "Intellasia East Asia News China&#8217;s biggest producer of rare earths, the Inner Mongolia Baotou Steel Rare Earth Group (600111.SS), has acquired nine regional mining companies as part of government masterplan to consolidate the sector. China produces more than 90 percent of the world&#8217;s rare earth metals, group of 17 elements used in wide range of applications [&#8230;]\n",
      "At the Food Wine Classic in Aspen, the chef and television personality also addressed the death of his good friend Tony Bourdain.\n",
      "From 14/06/2018 to 16/06/2018, Tropical Storm (maximum wind speed of 65 km/h) GAEMI-18 was active in NWPacific. The cyclone affects these countries: Japan (vulnerability Low). Estimated population affected by category (120 km/h) wind speeds or higher is 0.\n",
      "(Reuters) Wells Fargo Co said on Friday it received final approval from district court in California to settle $142 million class-action lawsuit, which compensates customers affected by a...\n",
      "NEW YORK (Reuters) Chinese manufacturer JinkoSolar Holding Co Ltd expects to start manufacturing solar panels at new factory in Jacksonville, Florida, by the fourth quarter, and production will not be affected by the latest round of U.S. tariffs on Chinese products, company executive said on Tuesday.\n",
      "SAN FRANCISCO (Reuters) A sophisticated hacking campaign launched from computers in China burrowed deeply into satellite operators, defense contractors and telecommunications companies in the United States and southeast Asia, security researchers at Symantec Corp said on Tuesday.\n",
      "(Reuters) Scientists seeking new ways to fight drug-resistant superbugs have mapped the genomes of more than 3,000 bacteria, including samples of bug taken from Alexander Fleming's nose and dysentery-causing strain from World War One soldier.\n",
      "Areas of showers and thunderstorms will continue today through Tuesday. Very heavy rain is possible with any shower or thunderstorm. This may result in rapid rises on area streams and rivers. Those living along or near rivers and streams or have equipment or livestock along water ways should prepare for the possibility of rapidly rising water and pay close attention to the\n"
     ]
    }
   ],
   "source": [
    "data = rsstreams()\n",
    "x = data.getRssFeed()\n",
    "no_hmtl_text = []\n",
    "for i in x:\n",
    "    clean = clean_html(i.get('text'))\n",
    "    no_hmtl_text.append(clean)\n",
    "    print(clean)"
   ]
  },
  {
   "cell_type": "code",
   "execution_count": 3,
   "metadata": {},
   "outputs": [
    {
     "name": "stdout",
     "output_type": "stream",
     "text": [
      "{'None': '1.0'}\n",
      "{'Canadian': 1, 'Paves': 1, 'Vote': '1.0', 'Way': 1, 'advanced': 1, 'articles': 1, 'become': 1, 'becomes': 1, 'bill': 2, 'clearing': 1, 'country': 1, 'delayed': 1, 'drug': 1, 'federal': 1, 'first': 1, 'government&#39;s': 1, 'historic': 1, 'industrialized': 1, 'legalization': '1.0', 'legalize': 3, 'legalizing': 1, 'marijuana': '3.0', 'nation': 2, 'nationwide': 1, 'news': 1, 'pass': 1, 'passes': 1, 'raquo': 1, 'recreational': 1, 'second': 1, 'senate': 1, 'use': 1, 'voted': 1, 'votes': 1, 'way': 1, 'weed': 1, 'world': 1, 'marijuana Washington Post TORONTO Canada&#39;s Senate': '0.5', 'the federal government&#39;s historic bill': '1.0', 'the recreational use': '0.6666666666666666', 'the way': '0.5', 'the country': '0.5', 'the first advanced industrialized nation': '1.0', 'the drug': '0.5', 'second nation': '1.5', 'the world': '0.5', 'CNN Canadian senate': '0.6666666666666666', 'weed bill': '1.5'}\n",
      "{'bitter': 1, 'blow': 1, 'conglomerate': 1, 'could': 1, 'elite': 1, 'expulsion': 1, 'investors': '1.0', 'little': 1, 'may': 1, 'more': 1, 'old': 1, 'pill': 1, 'publicity': 1, 'shareholders': '1.0', 'struggling': 1, 'swallow': 1, \"General Electric Co's expulsion\": '0.25', 'the elite Dow Jones Industrial Average': '0.16666666666666666', 'bitter pill': '1.0', 'publicity blow': '1.0', 'the 126-year-old struggling U.S. conglomerate': '0.4'}\n",
      "{'Production': '1.0', 'according': 1, 'agency': 1, 'average': 1, 'barrels': 3, 'climb': 1, 'crude': 1, 'day': 2, 'domestic': 1, 'forecasts': 1, 'growing': 1, 'keep': 1, 'last': 1, 'month': 1, 'monthly': 1, 'output': 1, 'production': 1, 'projected': 1, 'record': 1, 'released': 1, 'said': 1, 'will': 2, 'U.S. crude production forecasts': '0.75', 'domestic output': '1.0', '9.96 million barrels day': '1.25', '9.9 million barrels': '1.0', 'the agency': '0.5', 'monthly Short-Term Energy Outlook': '0.25'}\n",
      "{'according': 1, 'buying': 1, 'compelling': 1, 'earnings': 1, 'off': 1, 'opportunity': 1, 'presents': 1, 'recent': 1, 'sell': 1, 'Nordstrom&#039;s recent earnings sell-off': '0.5', 'compelling buying opportunity': '1.0'}\n",
      "{'Square': 1, 'announcement': 1, 'app': 1, 'can': 1, 'cryptocurrency': '1.0', 'high': 1, 'hit': 1, 'shares': 1, 'trade': 1, 'Square shares': '1.0', '52-week high': '0.5', 'the announcement': '0.5', 'the Cash app': '0.3333333333333333'}\n",
      "{'Asian': 1, 'KEEPING': 1, 'Korean': 1, 'Most': 1, 'SCORE': '1.0', 'added': 1, 'advanced': 1, 'earnings': 1, 'followed': 1, 'inter': 1, 'investors': '1.0', 'markets': 1, 'percent': 3, 'reports': '1.0', 'rose': 1, 'sank': 1, 'stock': 1, 'strong': 1, 'summit': 1, 'watched': 1, 'Most Asian stock markets': '1.0', 'strong US earnings': '0.6666666666666666', 'the inter-Korean summit': '0.3333333333333333'}\n",
      "{'acquired': 1, 'applications': '1.0', 'biggest': 1, 'companies': 1, 'consolidate': 1, 'earth': 1, 'earths': 1, 'elements': 1, 'government': 1, 'group': '1.0', 'has': 1, 'masterplan': 1, 'metals': 1, 'mining': 1, 'more': 1, 'part': '1.0', 'percent': 1, 'producer': 1, 'produces': 1, 'range': 1, 'rare': 2, 'regional': 1, 'sector': 1, 'used': 1, 'wide': 1, 'world&#8217;s': 1, 'Intellasia East Asia News China&#8217;s biggest producer': '0.2857142857142857', 'rare earths': '1.5', 'nine regional mining companies': '0.75', 'government masterplan': '1.0', 'the sector': '0.5', 'more than 90 percent': '0.5', 'the world&#8217;s rare earth metals': '1.0', '17 elements': '0.5', 'wide range': '1.0'}\n",
      "{'addressed': 1, 'chef': 1, 'death': 1, 'friend': 1, 'good': 1, 'his': 1, 'personality': 1, 'television': 1, 'the chef and television personality': '0.6', 'the death': '0.5', 'his good friend': '1.0'}\n",
      "{'Estimated': 1, 'Storm': 1, 'Tropical': 1, 'active': 1, 'affected': 1, 'affects': 1, 'category': '1.0', 'countries': 1, 'cyclone': 1, 'h': 2, 'higher': 1, 'km': 2, 'maximum': 1, 'population': 1, 'speed': 1, 'speeds': 1, 'vulnerability': 1, 'wind': 2, 'Tropical Storm': '1.0', 'maximum wind speed': '1.3333333333333333', 'The cyclone': '0.5', 'these countries': '0.5', 'Estimated population': '1.0', '120 km/h) wind speeds': '0.75'}\n",
      "{'action': 1, 'affected': 1, 'approval': 1, 'class': 1, 'compensates': 1, 'court': 1, 'customers': '1.0', 'district': 1, 'final': 1, 'lawsuit': 1, 'received': 1, 'said': 1, 'settle': 1, 'which': 1, 'final approval': '1.0', 'district court': '1.0', '$142 million class-action lawsuit': '0.25'}\n",
      "{'Chinese': 2, 'affected': 1, 'company': 1, 'executive': 1, 'expects': 1, 'factory': 1, 'fourth': 1, 'latest': 1, 'manufacturer': 1, 'manufacturing': 1, 'new': 1, 'panels': 1, 'production': '1.0', 'products': 1, 'quarter': 1, 'round': 1, 'said': 1, 'solar': 1, 'start': 1, 'tariffs': 1, 'will': 1, 'Chinese manufacturer JinkoSolar Holding Co Ltd': '0.5', 'solar panels': '1.0', 'new factory': '1.0', 'the fourth quarter': '0.6666666666666666', 'the latest round': '0.6666666666666666', 'U.S. tariffs': '0.5', 'Chinese products': '1.5', 'company executive': '1.0'}\n",
      "{'burrowed': 1, 'campaign': 1, 'companies': 1, 'computers': '1.0', 'contractors': 1, 'defense': 1, 'hacking': 1, 'launched': 1, 'operators': 1, 'researchers': 1, 'said': 1, 'satellite': 1, 'security': 1, 'sophisticated': 1, 'southeast': 1, 'telecommunications': 1, 'A sophisticated hacking campaign': '0.75', 'satellite operators': '1.0', 'defense contractors': '1.0', 'telecommunications companies': '1.0', 'southeast Asia': '0.5', 'security researchers': '1.0'}\n",
      "{'Scientists': '1.0', 'bacteria': 1, 'bug': '1.0', 'causing': 1, 'drug': 1, 'dysentery': 1, 'fight': 1, 'genomes': 1, 'have': 1, 'including': 1, 'mapped': 1, 'more': 1, 'new': 1, 'nose': 1, 'resistant': 1, 'samples': '1.0', 'seeking': 1, 'soldier': 1, 'strain': 1, 'superbugs': 1, 'taken': 1, 'ways': 1, 'new ways': '1.0', 'drug-resistant superbugs': '0.5', 'the genomes': '0.5', 'more than 3,000 bacteria': '0.5', \"Alexander Fleming's nose and dysentery-causing strain\": '0.3333333333333333', 'World War One soldier': '0.25'}\n",
      "{'Areas': '1.0', 'area': 1, 'attention': 1, 'close': 1, 'continue': 1, 'equipment': '1.0', 'have': 1, 'heavy': 1, 'livestock': '1.0', 'living': 1, 'may': 1, 'pay': 1, 'possibility': 1, 'possible': 1, 'prepare': 1, 'rain': 1, 'rapid': 1, 'result': 1, 'rises': 1, 'rising': 1, 'rivers': '2.0', 'should': 1, 'shower': 1, 'showers': '1.0', 'streams': '2.0', 'thunderstorm': '1.0', 'thunderstorms': '1.0', 'today': 1, 'water': 2, 'ways': 1, 'will': 1, 'Very heavy rain': '0.6666666666666666', 'any shower': '0.5', 'rapid rises': '1.0', 'area streams': '1.5', 'water ways': '1.5', 'the possibility': '0.5', 'rapidly rising water': '1.0', 'close attention': '1.0'}\n"
     ]
    }
   ],
   "source": [
    "text = TxtProcessor()\n",
    "for j in no_hmtl_text:\n",
    "    text.load_sequence(j)\n",
    "    tokens = text.rank_words_phrases()\n",
    "    print(tokens)"
   ]
  }
 ],
 "metadata": {
  "kernelspec": {
   "display_name": "Python 3",
   "language": "python",
   "name": "python3"
  },
  "language_info": {
   "codemirror_mode": {
    "name": "ipython",
    "version": 3
   },
   "file_extension": ".py",
   "mimetype": "text/x-python",
   "name": "python",
   "nbconvert_exporter": "python",
   "pygments_lexer": "ipython3",
   "version": "3.6.5"
  }
 },
 "nbformat": 4,
 "nbformat_minor": 2
}
