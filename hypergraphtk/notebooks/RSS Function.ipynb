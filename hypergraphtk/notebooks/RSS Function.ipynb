{
 "cells": [
  {
   "cell_type": "code",
   "execution_count": null,
   "metadata": {},
   "outputs": [],
   "source": [
    "from hypergraphtk.dataminer.rsstreams import *\n",
    "from hypergraphtk.text.clean_html import *\n",
    "from hypergraphtk.text.txtprocessor import TxtProcessor"
   ]
  },
  {
   "cell_type": "code",
   "execution_count": null,
   "metadata": {},
   "outputs": [],
   "source": [
    "data = rsstreams()\n",
    "x = data.getRssFeed()\n",
    "no_hmtl_text = []\n",
    "for i in x:\n",
    "    clean = clean_html(i.get('text'))\n",
    "    no_hmtl_text.append(clean)\n",
    "    print(clean)"
   ]
  },
  {
   "cell_type": "code",
   "execution_count": null,
   "metadata": {},
   "outputs": [],
   "source": [
    "text = TxtProcessor()\n",
    "for j in no_hmtl_text:\n",
    "    text.load_sequence(j)\n",
    "    tokens = text.rank_words_phrases()\n",
    "    print(tokens)"
   ]
  },
  {
   "cell_type": "code",
   "execution_count": null,
   "metadata": {},
   "outputs": [],
   "source": [
    "word_list = []\n",
    "ranked_words = []\n",
    "for j in no_hmtl_text:\n",
    "    text.load_sequence(j)\n",
    "    word_list.append(text.extract_tokens_pos())\n",
    "    ranked_words.append(text.rank_words(tokens))"
   ]
  },
  {
   "cell_type": "code",
   "execution_count": null,
   "metadata": {},
   "outputs": [],
   "source": [
    "print(word_list)"
   ]
  },
  {
   "cell_type": "code",
   "execution_count": null,
   "metadata": {},
   "outputs": [],
   "source": [
    "print(ranked_words)"
   ]
  },
  {
   "cell_type": "code",
   "execution_count": null,
   "metadata": {},
   "outputs": [],
   "source": []
  }
 ],
 "metadata": {
  "kernelspec": {
   "display_name": "Python 3",
   "language": "python",
   "name": "python3"
  },
  "language_info": {
   "codemirror_mode": {
    "name": "ipython",
    "version": 3
   },
   "file_extension": ".py",
   "mimetype": "text/x-python",
   "name": "python",
   "nbconvert_exporter": "python",
   "pygments_lexer": "ipython3",
   "version": "3.6.5"
  }
 },
 "nbformat": 4,
 "nbformat_minor": 2
}
